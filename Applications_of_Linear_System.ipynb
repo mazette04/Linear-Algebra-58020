{
  "nbformat": 4,
  "nbformat_minor": 0,
  "metadata": {
    "colab": {
      "name": "Applications of Linear System.ipynb",
      "provenance": [],
      "authorship_tag": "ABX9TyM8qU8qBBUV0V9nKryfA41z",
      "include_colab_link": true
    },
    "kernelspec": {
      "name": "python3",
      "display_name": "Python 3"
    },
    "language_info": {
      "name": "python"
    }
  },
  "cells": [
    {
      "cell_type": "markdown",
      "metadata": {
        "id": "view-in-github",
        "colab_type": "text"
      },
      "source": [
        "<a href=\"https://colab.research.google.com/github/mazette04/Linear-Algebra-58020/blob/main/Applications_of_Linear_System.ipynb\" target=\"_parent\"><img src=\"https://colab.research.google.com/assets/colab-badge.svg\" alt=\"Open In Colab\"/></a>"
      ]
    },
    {
      "cell_type": "markdown",
      "metadata": {
        "id": "JzItL-aGX0OR"
      },
      "source": [
        "##Systems of Linear Equations"
      ]
    },
    {
      "cell_type": "markdown",
      "metadata": {
        "id": "jq3TDq7_X7Ef"
      },
      "source": [
        "###Systems of Linear Equations can be solved with arrays and NumPy."
      ]
    },
    {
      "cell_type": "code",
      "metadata": {
        "colab": {
          "base_uri": "https://localhost:8080/"
        },
        "id": "0fmRp0lMYKhf",
        "outputId": "86848104-f75c-40b9-aea6-aa2fe7818216"
      },
      "source": [
        "from scipy.linalg import solve\n",
        "\n",
        "A = np.array([[4,5],[3,-2]])\n",
        "print(A)\n",
        "B = np.array([[7],[11]])\n",
        "print(B)\n",
        "\n",
        "\n",
        "X=np.linalg.inv(A).dot(B)\n",
        "print(X)\n",
        "\n"
      ],
      "execution_count": 15,
      "outputs": [
        {
          "output_type": "stream",
          "name": "stdout",
          "text": [
            "[[ 4  5]\n",
            " [ 3 -2]]\n",
            "[[ 7]\n",
            " [11]]\n",
            "[[ 3.]\n",
            " [-1.]]\n"
          ]
        }
      ]
    },
    {
      "cell_type": "code",
      "metadata": {
        "colab": {
          "base_uri": "https://localhost:8080/"
        },
        "id": "9wmI16jvboq0",
        "outputId": "d9ccffc7-4c87-4e3c-950a-05a438cc22cb"
      },
      "source": [
        "inv_A = np.linalg.inv(A)\n",
        "print(inv_A)\n",
        "\n",
        "X = np.dot(inv_A,B)\n",
        "print(X)"
      ],
      "execution_count": 8,
      "outputs": [
        {
          "output_type": "stream",
          "name": "stdout",
          "text": [
            "[[ 0.08695652  0.2173913 ]\n",
            " [ 0.13043478 -0.17391304]]\n",
            "[[ 3.]\n",
            " [-1.]]\n"
          ]
        }
      ]
    },
    {
      "cell_type": "code",
      "metadata": {
        "colab": {
          "base_uri": "https://localhost:8080/"
        },
        "id": "9QMQVwePciIJ",
        "outputId": "b2ac90d4-26a4-4948-a8bb-632c0e60ec69"
      },
      "source": [
        "X = np.linalg.solve(A,B)\n",
        "print(X)"
      ],
      "execution_count": 10,
      "outputs": [
        {
          "output_type": "stream",
          "name": "stdout",
          "text": [
            "[[ 3.]\n",
            " [-1.]]\n"
          ]
        }
      ]
    },
    {
      "cell_type": "code",
      "metadata": {
        "colab": {
          "base_uri": "https://localhost:8080/"
        },
        "id": "Ep912SzBdxCm",
        "outputId": "70192786-5477-4742-f4f1-9bda1514b32b"
      },
      "source": [
        "from scipy.linalg import solve\n",
        "X = solve(A,B)\n",
        "print(X)"
      ],
      "execution_count": 17,
      "outputs": [
        {
          "output_type": "stream",
          "name": "stdout",
          "text": [
            "[[ 3.]\n",
            " [-1.]]\n"
          ]
        }
      ]
    }
  ]
}